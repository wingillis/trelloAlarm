{
 "cells": [
  {
   "cell_type": "code",
   "execution_count": null,
   "metadata": {
    "collapsed": true
   },
   "outputs": [],
   "source": [
    "import trello\n",
    "import pync\n",
    "import time\n",
    "import subprocess\n",
    "import sys"
   ]
  },
  {
   "cell_type": "code",
   "execution_count": 2,
   "metadata": {
    "collapsed": true
   },
   "outputs": [],
   "source": [
    "api_key = sys.environ['TRELLO_APIKEY']\n",
    "token = sys.environ['TRELLO_TOKEN']"
   ]
  },
  {
   "cell_type": "code",
   "execution_count": 3,
   "metadata": {
    "collapsed": true
   },
   "outputs": [],
   "source": [
    "t = trello.TrelloApi(api_key, token=token)"
   ]
  },
  {
   "cell_type": "code",
   "execution_count": 4,
   "metadata": {
    "collapsed": true
   },
   "outputs": [],
   "source": [
    "def login_and_get_boards(trello):\n",
    "    wg = trello.members.get('winthropgillis')\n",
    "    boards = wg['idBoards']\n",
    "    return boards"
   ]
  },
  {
   "cell_type": "code",
   "execution_count": 5,
   "metadata": {
    "collapsed": false
   },
   "outputs": [],
   "source": [
    "boards = login_and_get_boards(t)"
   ]
  },
  {
   "cell_type": "code",
   "execution_count": 6,
   "metadata": {
    "collapsed": true
   },
   "outputs": [],
   "source": [
    "def filter_board(trello, b, name):\n",
    "    board = trello.boards.get(b)\n",
    "    return board['name'] == name\n",
    "\n",
    "def get_board(trello, boards, board):\n",
    "    return [x for x in boards if filter_board(trello, x, board)][0]"
   ]
  },
  {
   "cell_type": "code",
   "execution_count": 7,
   "metadata": {
    "collapsed": false
   },
   "outputs": [],
   "source": [
    "timer_board_id = get_board(t, boards, 'Timers')"
   ]
  },
  {
   "cell_type": "code",
   "execution_count": 8,
   "metadata": {
    "collapsed": false
   },
   "outputs": [],
   "source": [
    "def get_lists(trello, b_id):\n",
    "    lists = trello.boards.get_list(b_id)\n",
    "    return lists\n",
    "\n",
    "def get_cards(trello, c_id):\n",
    "    cards = trello.lists.get_card(c_id)\n",
    "    return cards"
   ]
  },
  {
   "cell_type": "code",
   "execution_count": 9,
   "metadata": {
    "collapsed": false
   },
   "outputs": [],
   "source": [
    "lists = get_lists(t, timer_board_id)"
   ]
  },
  {
   "cell_type": "code",
   "execution_count": 10,
   "metadata": {
    "collapsed": false
   },
   "outputs": [],
   "source": [
    "serial = list(filter(lambda d: d['name'] == 'Serial', lists))[0]\n",
    "parallel = list(filter(lambda d: d['name'] == 'Parallel', lists))[0]"
   ]
  },
  {
   "cell_type": "code",
   "execution_count": 11,
   "metadata": {
    "collapsed": false
   },
   "outputs": [],
   "source": [
    "ser_cards = get_cards(t, serial['id'])"
   ]
  },
  {
   "cell_type": "code",
   "execution_count": 12,
   "metadata": {
    "collapsed": true
   },
   "outputs": [],
   "source": [
    "def parseCard(card):\n",
    "    title = card['name']\n",
    "    name, time = title.split('-')\n",
    "    name = name.strip()\n",
    "    time = time.strip()\n",
    "    time, tstr = parseTime(time)\n",
    "    return (name, time, tstr, title)\n",
    "\n",
    "def parseTime(tstr):\n",
    "    sminute, ssec = tstr.split(' ')\n",
    "    minute = int(sminute[:-1])\n",
    "    sec = int(ssec[:-1])\n",
    "    time_str = ''\n",
    "    if minute:\n",
    "        time_str += '{} minutes '.format(minute)\n",
    "    if sec:\n",
    "        if time_str:\n",
    "            time_str += 'and '\n",
    "        time_str += '{} seconds'.format(sec)\n",
    "    return (sec+ minute*60, time_str)    \n"
   ]
  },
  {
   "cell_type": "code",
   "execution_count": 13,
   "metadata": {
    "collapsed": false
   },
   "outputs": [],
   "source": [
    "def run_serial_timer(trello, cards):\n",
    "    l = len(cards)\n",
    "    future, t, tstr, _t = parseCard(cards[0])\n",
    "    subprocess.call(['say', 'Do {} for {}'.format(future, tstr)])\n",
    "    for i, card in enumerate(cards):\n",
    "        if i<l-1:\n",
    "            future, t, tstr, _t = parseCard(cards[i+1])\n",
    "        else:\n",
    "            future = None\n",
    "        name, t, ttemp, title = parseCard(card)\n",
    "        trello.cards.new_label(card['id'], 'green')\n",
    "        minute = t//60\n",
    "        sec = t%60\n",
    "        if minute:\n",
    "            for j in range(minute,0,-1):\n",
    "                trello.cards.update_name(card['id'], '{} ends in {}'.format(name, str(j) + ' minutes'))\n",
    "                time.sleep(60)\n",
    "        if sec:\n",
    "            trello.cards.update_name(card['id'], '{} ends in {}'.format(name, str(sec) + ' seconds'))\n",
    "            time.sleep(sec)\n",
    "        pync.Notifier.notify(name, title='Timer Up!')\n",
    "        subprocess.call(['afplay', 'gong trim.m4a', '-t', '1'])\n",
    "        if future:\n",
    "            subprocess.call(['say', '{} is over. Now do {} for {}'.format(name, future, tstr)])\n",
    "        else:\n",
    "            subprocess.call(['say', '{} is over'.format(name)])\n",
    "        trello.cards.delete_label_color('green', card['id'])\n",
    "        trello.cards.update_name(card['id'], title)"
   ]
  },
  {
   "cell_type": "code",
   "execution_count": 15,
   "metadata": {
    "collapsed": false
   },
   "outputs": [],
   "source": [
    "run_serial_timer(t, ser_cards)"
   ]
  },
  {
   "cell_type": "code",
   "execution_count": 15,
   "metadata": {
    "collapsed": false
   },
   "outputs": [],
   "source": [
    "def repeat():\n",
    "    ser_cards = get_cards(t, serial['id'])\n",
    "    run_serial_timer(t, ser_cards)"
   ]
  },
  {
   "cell_type": "code",
   "execution_count": null,
   "metadata": {
    "collapsed": false
   },
   "outputs": [],
   "source": [
    "# TODO\n",
    "# Add label to current timer and add to title how long it has left\n",
    "repeat()"
   ]
  },
  {
   "cell_type": "code",
   "execution_count": null,
   "metadata": {
    "collapsed": true
   },
   "outputs": [],
   "source": []
  }
 ],
 "metadata": {
  "kernelspec": {
   "display_name": "Python 3",
   "language": "python",
   "name": "python3"
  },
  "language_info": {
   "codemirror_mode": {
    "name": "ipython",
    "version": 3
   },
   "file_extension": ".py",
   "mimetype": "text/x-python",
   "name": "python",
   "nbconvert_exporter": "python",
   "pygments_lexer": "ipython3",
   "version": "3.4.3"
  }
 },
 "nbformat": 4,
 "nbformat_minor": 0
}
