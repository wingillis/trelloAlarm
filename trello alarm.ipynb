{
 "cells": [
  {
   "cell_type": "code",
   "execution_count": 1,
   "metadata": {
    "collapsed": false
   },
   "outputs": [],
   "source": [
    "import trello\n",
    "import pync\n",
    "import time\n",
    "import subprocess\n",
    "import os\n",
    "import datetime\n",
    "\n",
    "def login_and_get_boards(trello):\n",
    "    wg = trello.members.get('winthropgillis')\n",
    "    boards = wg['idBoards']\n",
    "    return boards\n",
    "\n",
    "def filter_board(trello, b, name):\n",
    "    board = trello.boards.get(b)\n",
    "    return board['name'] == name\n",
    "\n",
    "def get_board(trello, boards, board):\n",
    "    return [x for x in boards if filter_board(trello, x, board)][0]\n",
    "\n",
    "def get_lists(trello, b_id):\n",
    "    lists = trello.boards.get_list(b_id)\n",
    "    return lists\n",
    "\n",
    "def get_cards(trello, c_id):\n",
    "    cards = trello.lists.get_card(c_id)\n",
    "    return cards\n",
    "\n",
    "def parseCard(card):\n",
    "    title = card['name']\n",
    "    try:\n",
    "        name, time = title.split('-')\n",
    "        name = name.strip()\n",
    "        time = time.strip()\n",
    "        time, tstr = parseTime(time)\n",
    "        return (name, time, tstr, title)\n",
    "    except:\n",
    "        return tuple([None]*4)\n",
    "\n",
    "def parseTime(tstr):\n",
    "    sminute, ssec = tstr.split(' ')\n",
    "    minute = int(sminute[:-1])\n",
    "    sec = int(ssec[:-1])\n",
    "    time_str = ''\n",
    "    if minute:\n",
    "        time_str += '{} minutes '.format(minute)\n",
    "    if sec:\n",
    "        if time_str:\n",
    "            time_str += 'and '\n",
    "        time_str += '{} seconds'.format(sec)\n",
    "    return (sec+ minute*60, time_str)    \n",
    "\n",
    "\n",
    "def run_serial_timer(trello, cards, loud=True):\n",
    "    l = len(cards)\n",
    "    future, t, tstr, _t = parseCard(cards[0])\n",
    "    if loud:\n",
    "        subprocess.call(['say', 'Do {} for {}'.format(future, tstr)])\n",
    "    for i, card in enumerate(cards):\n",
    "        if i<l-1:\n",
    "            future, t, tstr, _t = parseCard(cards[i+1])\n",
    "        else:\n",
    "            future = None\n",
    "        name, t, ttemp, title = parseCard(card)\n",
    "        trello.cards.new_label(card['id'], 'green')\n",
    "        minute = t//60\n",
    "        sec = t%60\n",
    "        if minute and sec:\n",
    "            for j in range(minute,0,-1):\n",
    "                trello.cards.update_name(card['id'], '{} ends in {}'\n",
    "                                         .format(name, str(j) + ' minutes'))\n",
    "                time.sleep(60)\n",
    "            trello.cards.update_name(card['id'], '{} ends in {}'\n",
    "                                     .format(name, str(sec) + ' seconds'))\n",
    "            time.sleep(sec)\n",
    "        elif minute:\n",
    "            for j in range(minute,1,-1):\n",
    "                trello.cards.update_name(card['id'], '{} ends in {}'\n",
    "                                         .format(name, str(j) + ' minutes'))\n",
    "                time.sleep(60)\n",
    "            for j in range(50, -1, -10):\n",
    "                trello.cards.update_name(card['id'], '{} ends in {}'\n",
    "                                         .format(name, str(j) + ' seconds'))\n",
    "            \n",
    "        pync.Notifier.notify('Now do: {}'.format(future), \n",
    "                             title='Finished: {}'.format(name))\n",
    "        if loud:\n",
    "            subprocess.call(['afplay', 'gong trim.m4a', '-t', '1'])\n",
    "        if future and loud:\n",
    "            subprocess.call(['say', '{} is over. Now do {} for {}'\n",
    "                             .format(name, future, tstr)])\n",
    "        elif loud:\n",
    "            subprocess.call(['say', '{} is over'.format(name)])\n",
    "        trello.cards.delete_label_color('green', card['id'])\n",
    "        trello.cards.update_name(card['id'], title)\n",
    "\n",
    "def repeat():\n",
    "    ser_cards = get_cards(t, serial['id'])\n",
    "    run_serial_timer(t, ser_cards)\n",
    "    \n",
    "def repeat_quiet():\n",
    "    ser_cards = get_cards(t, serial['id'])\n",
    "    run_serial_timer(t, ser_cards, False)\n",
    "\n",
    "def process_tasks(trello, plist):\n",
    "    plist_cards = get_cards(trello, plist['id'])\n",
    "    with open('task_history.csv', 'a') as f:\n",
    "        for card in plist_cards:\n",
    "            name, t, readable, whole_title = parseCard(card)\n",
    "            line = ','.join((name,datetime.date.today().strftime('%m-%d-%Y'),str(t)))\n",
    "            f.write(line + '\\n')\n",
    "            trello.cards.delete(card['id'])\n"
   ]
  },
  {
   "cell_type": "code",
   "execution_count": 2,
   "metadata": {
    "collapsed": false
   },
   "outputs": [],
   "source": [
    "api_key = os.environ['TRELLO_APIKEY']\n",
    "token = os.environ['TRELLO_TOKEN']"
   ]
  },
  {
   "cell_type": "code",
   "execution_count": 3,
   "metadata": {
    "collapsed": true
   },
   "outputs": [],
   "source": [
    "t = trello.TrelloApi(api_key, token=token)"
   ]
  },
  {
   "cell_type": "code",
   "execution_count": 20,
   "metadata": {
    "collapsed": false
   },
   "outputs": [],
   "source": [
    "boards = login_and_get_boards(t)"
   ]
  },
  {
   "cell_type": "code",
   "execution_count": 21,
   "metadata": {
    "collapsed": false
   },
   "outputs": [],
   "source": [
    "timer_board_id = get_board(t, boards, 'Timers')"
   ]
  },
  {
   "cell_type": "code",
   "execution_count": 22,
   "metadata": {
    "collapsed": false
   },
   "outputs": [],
   "source": [
    "lists = get_lists(t, timer_board_id)"
   ]
  },
  {
   "cell_type": "code",
   "execution_count": 23,
   "metadata": {
    "collapsed": false
   },
   "outputs": [],
   "source": [
    "serial = list(filter(lambda d: d['name'] == 'Serial', lists))[0]\n",
    "parallel = list(filter(lambda d: d['name'] == 'Parallel', lists))[0]\n",
    "processing = list(filter(lambda d: d['name'] == 'For processing', lists))[0]"
   ]
  },
  {
   "cell_type": "code",
   "execution_count": 24,
   "metadata": {
    "collapsed": false
   },
   "outputs": [],
   "source": [
    "ser_cards = get_cards(t, serial['id'])"
   ]
  },
  {
   "cell_type": "code",
   "execution_count": 10,
   "metadata": {
    "collapsed": false
   },
   "outputs": [],
   "source": [
    "repeat()"
   ]
  },
  {
   "cell_type": "code",
   "execution_count": 18,
   "metadata": {
    "collapsed": true
   },
   "outputs": [
    {
     "ename": "KeyboardInterrupt",
     "evalue": "",
     "output_type": "error",
     "traceback": [
      "\u001b[0;31m---------------------------------------------------------------------------\u001b[0m",
      "\u001b[0;31mKeyboardInterrupt\u001b[0m                         Traceback (most recent call last)",
      "\u001b[0;32m<ipython-input-18-c12542590519>\u001b[0m in \u001b[0;36m<module>\u001b[0;34m()\u001b[0m\n\u001b[1;32m      1\u001b[0m \u001b[0;31m# TODO\u001b[0m\u001b[0;34m\u001b[0m\u001b[0;34m\u001b[0m\u001b[0m\n\u001b[1;32m      2\u001b[0m \u001b[0;31m# Add label to current timer and add to title how long it has left\u001b[0m\u001b[0;34m\u001b[0m\u001b[0;34m\u001b[0m\u001b[0m\n\u001b[0;32m----> 3\u001b[0;31m \u001b[0mrepeat_quiet\u001b[0m\u001b[0;34m(\u001b[0m\u001b[0;34m)\u001b[0m\u001b[0;34m\u001b[0m\u001b[0m\n\u001b[0m",
      "\u001b[0;32m<ipython-input-15-91dd8bca897f>\u001b[0m in \u001b[0;36mrepeat_quiet\u001b[0;34m()\u001b[0m\n\u001b[1;32m      5\u001b[0m \u001b[0;32mdef\u001b[0m \u001b[0mrepeat_quiet\u001b[0m\u001b[0;34m(\u001b[0m\u001b[0;34m)\u001b[0m\u001b[0;34m:\u001b[0m\u001b[0;34m\u001b[0m\u001b[0m\n\u001b[1;32m      6\u001b[0m     \u001b[0mser_cards\u001b[0m \u001b[0;34m=\u001b[0m \u001b[0mget_cards\u001b[0m\u001b[0;34m(\u001b[0m\u001b[0mt\u001b[0m\u001b[0;34m,\u001b[0m \u001b[0mserial\u001b[0m\u001b[0;34m[\u001b[0m\u001b[0;34m'id'\u001b[0m\u001b[0;34m]\u001b[0m\u001b[0;34m)\u001b[0m\u001b[0;34m\u001b[0m\u001b[0m\n\u001b[0;32m----> 7\u001b[0;31m     \u001b[0mrun_serial_timer\u001b[0m\u001b[0;34m(\u001b[0m\u001b[0mt\u001b[0m\u001b[0;34m,\u001b[0m \u001b[0mser_cards\u001b[0m\u001b[0;34m,\u001b[0m \u001b[0;32mFalse\u001b[0m\u001b[0;34m)\u001b[0m\u001b[0;34m\u001b[0m\u001b[0m\n\u001b[0m",
      "\u001b[0;32m<ipython-input-13-753155152cde>\u001b[0m in \u001b[0;36mrun_serial_timer\u001b[0;34m(trello, cards, loud)\u001b[0m\n\u001b[1;32m     15\u001b[0m             \u001b[0;32mfor\u001b[0m \u001b[0mj\u001b[0m \u001b[0;32min\u001b[0m \u001b[0mrange\u001b[0m\u001b[0;34m(\u001b[0m\u001b[0mminute\u001b[0m\u001b[0;34m,\u001b[0m\u001b[0;36m0\u001b[0m\u001b[0;34m,\u001b[0m\u001b[0;34m-\u001b[0m\u001b[0;36m1\u001b[0m\u001b[0;34m)\u001b[0m\u001b[0;34m:\u001b[0m\u001b[0;34m\u001b[0m\u001b[0m\n\u001b[1;32m     16\u001b[0m                 \u001b[0mtrello\u001b[0m\u001b[0;34m.\u001b[0m\u001b[0mcards\u001b[0m\u001b[0;34m.\u001b[0m\u001b[0mupdate_name\u001b[0m\u001b[0;34m(\u001b[0m\u001b[0mcard\u001b[0m\u001b[0;34m[\u001b[0m\u001b[0;34m'id'\u001b[0m\u001b[0;34m]\u001b[0m\u001b[0;34m,\u001b[0m \u001b[0;34m'{} ends in {}'\u001b[0m\u001b[0;34m.\u001b[0m\u001b[0mformat\u001b[0m\u001b[0;34m(\u001b[0m\u001b[0mname\u001b[0m\u001b[0;34m,\u001b[0m \u001b[0mstr\u001b[0m\u001b[0;34m(\u001b[0m\u001b[0mj\u001b[0m\u001b[0;34m)\u001b[0m \u001b[0;34m+\u001b[0m \u001b[0;34m' minutes'\u001b[0m\u001b[0;34m)\u001b[0m\u001b[0;34m)\u001b[0m\u001b[0;34m\u001b[0m\u001b[0m\n\u001b[0;32m---> 17\u001b[0;31m                 \u001b[0mtime\u001b[0m\u001b[0;34m.\u001b[0m\u001b[0msleep\u001b[0m\u001b[0;34m(\u001b[0m\u001b[0;36m60\u001b[0m\u001b[0;34m)\u001b[0m\u001b[0;34m\u001b[0m\u001b[0m\n\u001b[0m\u001b[1;32m     18\u001b[0m         \u001b[0;32mif\u001b[0m \u001b[0msec\u001b[0m\u001b[0;34m:\u001b[0m\u001b[0;34m\u001b[0m\u001b[0m\n\u001b[1;32m     19\u001b[0m             \u001b[0mtrello\u001b[0m\u001b[0;34m.\u001b[0m\u001b[0mcards\u001b[0m\u001b[0;34m.\u001b[0m\u001b[0mupdate_name\u001b[0m\u001b[0;34m(\u001b[0m\u001b[0mcard\u001b[0m\u001b[0;34m[\u001b[0m\u001b[0;34m'id'\u001b[0m\u001b[0;34m]\u001b[0m\u001b[0;34m,\u001b[0m \u001b[0;34m'{} ends in {}'\u001b[0m\u001b[0;34m.\u001b[0m\u001b[0mformat\u001b[0m\u001b[0;34m(\u001b[0m\u001b[0mname\u001b[0m\u001b[0;34m,\u001b[0m \u001b[0mstr\u001b[0m\u001b[0;34m(\u001b[0m\u001b[0msec\u001b[0m\u001b[0;34m)\u001b[0m \u001b[0;34m+\u001b[0m \u001b[0;34m' seconds'\u001b[0m\u001b[0;34m)\u001b[0m\u001b[0;34m)\u001b[0m\u001b[0;34m\u001b[0m\u001b[0m\n",
      "\u001b[0;31mKeyboardInterrupt\u001b[0m: "
     ]
    }
   ],
   "source": [
    "# TODO\n",
    "# Add label to current timer and add to title how long it has left\n",
    "repeat_quiet()"
   ]
  },
  {
   "cell_type": "code",
   "execution_count": 11,
   "metadata": {
    "collapsed": false
   },
   "outputs": [],
   "source": [
    "process_tasks(t, processing)"
   ]
  },
  {
   "cell_type": "code",
   "execution_count": 12,
   "metadata": {
    "collapsed": false
   },
   "outputs": [
    {
     "data": {
      "text/plain": [
       "'5610135234343b361fb9b094'"
      ]
     },
     "execution_count": 12,
     "metadata": {},
     "output_type": "execute_result"
    }
   ],
   "source": [
    "serial['id']"
   ]
  },
  {
   "cell_type": "code",
   "execution_count": 13,
   "metadata": {
    "collapsed": true
   },
   "outputs": [],
   "source": [
    "with open('serial_id.txt', 'w') as fil:\n",
    "    fil.write(serial['id'])"
   ]
  },
  {
   "cell_type": "code",
   "execution_count": 14,
   "metadata": {
    "collapsed": true
   },
   "outputs": [],
   "source": [
    "with open('timers_id.txt', 'w') as fil:\n",
    "    fil.write(timer_board_id)"
   ]
  },
  {
   "cell_type": "code",
   "execution_count": 25,
   "metadata": {
    "collapsed": false
   },
   "outputs": [
    {
     "data": {
      "text/plain": [
       "{'badges': {'attachments': 1,\n",
       "  'checkItems': 0,\n",
       "  'checkItemsChecked': 0,\n",
       "  'comments': 0,\n",
       "  'description': False,\n",
       "  'due': None,\n",
       "  'fogbugz': '',\n",
       "  'subscribed': False,\n",
       "  'viewingMemberVoted': False,\n",
       "  'votes': 0},\n",
       " 'checkItemStates': [],\n",
       " 'closed': False,\n",
       " 'dateLastActivity': '2015-10-12T15:50:45.871Z',\n",
       " 'desc': '',\n",
       " 'descData': {'emoji': {}},\n",
       " 'due': None,\n",
       " 'email': 'winthropgillis+54ef444ff6cddfd1ce2be7d3+561b96ee79e6049a7fd2b625+4bb5403d0e85a02a09e6207016795c22960a02c7@boards.trello.com',\n",
       " 'id': '561b96ee79e6049a7fd2b625',\n",
       " 'idAttachmentCover': '561bd6d4dda3f4e4fc2e1a3b',\n",
       " 'idBoard': '5610133e828fdc95eded90a5',\n",
       " 'idChecklists': [],\n",
       " 'idLabels': [],\n",
       " 'idList': '5610135234343b361fb9b094',\n",
       " 'idMembers': [],\n",
       " 'idMembersVoted': [],\n",
       " 'idShort': 131,\n",
       " 'labels': [],\n",
       " 'manualCoverAttachment': False,\n",
       " 'name': 'test ending - 6m 0s',\n",
       " 'pos': 153599.25,\n",
       " 'shortLink': '3Vr9LDs7',\n",
       " 'shortUrl': 'https://trello.com/c/3Vr9LDs7',\n",
       " 'subscribed': False,\n",
       " 'url': 'https://trello.com/c/3Vr9LDs7/131-test-ending-6m-0s'}"
      ]
     },
     "execution_count": 25,
     "metadata": {},
     "output_type": "execute_result"
    }
   ],
   "source": [
    "ser_cards[0]"
   ]
  },
  {
   "cell_type": "code",
   "execution_count": 26,
   "metadata": {
    "collapsed": false
   },
   "outputs": [
    {
     "data": {
      "text/plain": [
       "{'badges': {'attachments': 2,\n",
       "  'checkItems': 0,\n",
       "  'checkItemsChecked': 0,\n",
       "  'comments': 0,\n",
       "  'description': False,\n",
       "  'due': None,\n",
       "  'fogbugz': '',\n",
       "  'subscribed': False,\n",
       "  'viewingMemberVoted': False,\n",
       "  'votes': 0},\n",
       " 'checkItemStates': [],\n",
       " 'closed': False,\n",
       " 'dateLastActivity': '2015-10-12T15:52:55.881Z',\n",
       " 'desc': '',\n",
       " 'descData': {'emoji': {}},\n",
       " 'due': None,\n",
       " 'email': 'winthropgillis+54ef444ff6cddfd1ce2be7d3+561b96ee79e6049a7fd2b625+4bb5403d0e85a02a09e6207016795c22960a02c7@boards.trello.com',\n",
       " 'id': '561b96ee79e6049a7fd2b625',\n",
       " 'idAttachmentCover': '561bd6d4dda3f4e4fc2e1a3b',\n",
       " 'idBoard': '5610133e828fdc95eded90a5',\n",
       " 'idChecklists': [],\n",
       " 'idLabels': [],\n",
       " 'idList': '5610135234343b361fb9b094',\n",
       " 'idMembers': [],\n",
       " 'idShort': 131,\n",
       " 'labels': [],\n",
       " 'manualCoverAttachment': False,\n",
       " 'name': 'test ending - 6m 0s',\n",
       " 'pos': 153599.25,\n",
       " 'shortUrl': 'https://trello.com/c/3Vr9LDs7',\n",
       " 'url': 'https://trello.com/c/3Vr9LDs7/131-test-ending-6m-0s'}"
      ]
     },
     "execution_count": 26,
     "metadata": {},
     "output_type": "execute_result"
    }
   ],
   "source": [
    "t.cards.update(ser_cards[0]['id'])"
   ]
  },
  {
   "cell_type": "code",
   "execution_count": 5,
   "metadata": {
    "collapsed": true
   },
   "outputs": [],
   "source": [
    "t.cards.new?\n"
   ]
  },
  {
   "cell_type": "code",
   "execution_count": 12,
   "metadata": {
    "collapsed": true
   },
   "outputs": [],
   "source": [
    "t.cards.new_attachment??"
   ]
  },
  {
   "cell_type": "code",
   "execution_count": 10,
   "metadata": {
    "collapsed": true
   },
   "outputs": [],
   "source": [
    "t.cards."
   ]
  },
  {
   "cell_type": "code",
   "execution_count": 31,
   "metadata": {
    "collapsed": false
   },
   "outputs": [
    {
     "data": {
      "text/plain": [
       "['561bd6d4dda3f4e4fc2e1a3b', '561bd757c035f21dfd7f583a']"
      ]
     },
     "execution_count": 31,
     "metadata": {},
     "output_type": "execute_result"
    }
   ],
   "source": [
    "list(map(lambda a: a['id'], t.cards.get_attachment(ser_cards[0]['id'])))\n"
   ]
  },
  {
   "cell_type": "code",
   "execution_count": 6,
   "metadata": {
    "collapsed": true
   },
   "outputs": [],
   "source": [
    "t.lists.get_card??"
   ]
  },
  {
   "cell_type": "code",
   "execution_count": null,
   "metadata": {
    "collapsed": true
   },
   "outputs": [],
   "source": []
  }
 ],
 "metadata": {
  "kernelspec": {
   "display_name": "Python 3",
   "language": "python",
   "name": "python3"
  },
  "language_info": {
   "codemirror_mode": {
    "name": "ipython",
    "version": 3
   },
   "file_extension": ".py",
   "mimetype": "text/x-python",
   "name": "python",
   "nbconvert_exporter": "python",
   "pygments_lexer": "ipython3",
   "version": "3.4.3"
  }
 },
 "nbformat": 4,
 "nbformat_minor": 0
}
